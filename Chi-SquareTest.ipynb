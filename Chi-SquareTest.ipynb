{
 "cells": [
  {
   "cell_type": "markdown",
   "id": "1fb42e65-29ac-4915-95fa-fe0f86adc690",
   "metadata": {},
   "source": [
    "CHI-SQUARE TEST"
   ]
  },
  {
   "cell_type": "code",
   "execution_count": 1,
   "id": "b34ea655-b999-42f2-866f-b30d0da2f863",
   "metadata": {},
   "outputs": [],
   "source": [
    "#Step 1: State the Hypotheses:\n",
    "# - Null Hypothesis (H0): There is no significant association between the type of smart home device purchased (Smart Thermostats vs. Smart Lights) and the customer satisfaction level.\n",
    "# - Alternative Hypothesis (H1): There is a significant association between the type of smart home device purchased (Smart Thermostats vs. Smart Lights) and the customer satisfaction level."
   ]
  },
  {
   "cell_type": "code",
   "execution_count": 9,
   "id": "3a792cb5-b309-4297-b52c-947538e750ac",
   "metadata": {},
   "outputs": [
    {
     "name": "stdout",
     "output_type": "stream",
     "text": [
      "Chi-Square Statistic: 5.638227513227513\n"
     ]
    }
   ],
   "source": [
    "#2. Compute the Chi-Square Statistic:\n",
    "#Importing the packages\n",
    "# I am using chi2_contingency from scipy.stats for performing the chi-square test.\n",
    "import numpy as np\n",
    "import scipy.stats as stats\n",
    "from scipy.stats import chi2_contingency\n",
    "# creating a NumPy array called observed to represent the contingency table.\n",
    "#Description: Each row corresponds to a level of satisfaction, and each column corresponds to a type of device. The numbers represent the observed frequencies (counts) of customers in each satisfaction level for each type of device.\n",
    "observed = np.array([[50, 70, 120],\n",
    "                     [80, 100, 180],\n",
    "                     [60, 90, 150],\n",
    "                     [30, 50, 80],\n",
    "                     [20, 50, 70]])\n",
    "#Using the chi2_contingency function to compute the chi-square statistic, the p-value, the degrees of freedom, and the expected frequencies\n",
    "#Chi-square statistic quantifies how much the observed frequencies deviate from the expected frequencies under the null hypothesis.\n",
    "chi2_stat, p_val, dof, expected = chi2_contingency(observed)\n",
    "print(\"Chi-Square Statistic:\", chi2_stat)\n",
    "\n"
   ]
  },
  {
   "cell_type": "code",
   "execution_count": 10,
   "id": "a991928d-97fb-4603-bd75-e62183571a1e",
   "metadata": {},
   "outputs": [
    {
     "name": "stdout",
     "output_type": "stream",
     "text": [
      "Critical Value: 15.50731305586545\n"
     ]
    }
   ],
   "source": [
    "#3. Determine the critical value\n",
    "#Setting the significance level (alpha) to 0.05\n",
    "alpha = 0.05\n",
    "#Degrees of freedom:  For a contingency table with r rows and c columns, the degrees of freedom is given by (r - 1) * (c - 1).\n",
    "df = (observed.shape[0] - 1) * (observed.shape[1] - 1)\n",
    "#Calculation of critical value\n",
    "#Critical value: value that separates the critical region (where we reject the null hypothesis) from the non-critical region (where we fail to reject the null hypothesis).\n",
    "# Calculate critical value\n",
    "critical_value = stats.chi2.ppf(1 - alpha, df)\n",
    "print(\"Critical Value:\", critical_value)"
   ]
  },
  {
   "cell_type": "code",
   "execution_count": 11,
   "id": "5a4c98a4-c70a-4be0-abb0-b5f0126c1a5a",
   "metadata": {},
   "outputs": [
    {
     "name": "stdout",
     "output_type": "stream",
     "text": [
      "Fail to reject Null Hypothesis: There is no significant association between the type of smart home device purchased and the customer satisfaction level.\n"
     ]
    }
   ],
   "source": [
    "#4. Make a Decision\n",
    "#Comparing the Chi-Square statistic with the critical value to decide whether to reject the null hypothesis.\n",
    "#If the chi-square statistic is greater than the critical value, I reject the null hypothesis and conclude that there is a significant association between the type of smart home device purchased and the customer satisfaction level. Otherwise, I fail to reject the null hypothesis.\n",
    "if chi2_stat > critical_value:\n",
    "    print(\"Reject Null Hypothesis: There is a significant association between the type of smart home device purchased and the customer satisfaction level.\")\n",
    "else:\n",
    "    print(\"Fail to reject Null Hypothesis: There is no significant association between the type of smart home device purchased and the customer satisfaction level.\")\n"
   ]
  },
  {
   "cell_type": "code",
   "execution_count": null,
   "id": "3c377621-399c-4a51-a391-6fdb51384628",
   "metadata": {},
   "outputs": [],
   "source": []
  }
 ],
 "metadata": {
  "kernelspec": {
   "display_name": "Python 3 (ipykernel)",
   "language": "python",
   "name": "python3"
  },
  "language_info": {
   "codemirror_mode": {
    "name": "ipython",
    "version": 3
   },
   "file_extension": ".py",
   "mimetype": "text/x-python",
   "name": "python",
   "nbconvert_exporter": "python",
   "pygments_lexer": "ipython3",
   "version": "3.11.5"
  }
 },
 "nbformat": 4,
 "nbformat_minor": 5
}
