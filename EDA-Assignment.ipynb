{
 "cells": [
  {
   "cell_type": "code",
   "execution_count": 1,
   "id": "e12319f0-5983-472a-a87e-e4a975a16c00",
   "metadata": {},
   "outputs": [],
   "source": [
    "import pandas as pd\n",
    "import numpy as np\n",
    "import matplotlib.pyplot as plt\n",
    "import seaborn as sns"
   ]
  },
  {
   "cell_type": "code",
   "execution_count": 2,
   "id": "81e69691-ff69-4000-9ba7-6a27eba9c23e",
   "metadata": {},
   "outputs": [
    {
     "data": {
      "text/html": [
       "<div>\n",
       "<style scoped>\n",
       "    .dataframe tbody tr th:only-of-type {\n",
       "        vertical-align: middle;\n",
       "    }\n",
       "\n",
       "    .dataframe tbody tr th {\n",
       "        vertical-align: top;\n",
       "    }\n",
       "\n",
       "    .dataframe thead th {\n",
       "        text-align: right;\n",
       "    }\n",
       "</style>\n",
       "<table border=\"1\" class=\"dataframe\">\n",
       "  <thead>\n",
       "    <tr style=\"text-align: right;\">\n",
       "      <th></th>\n",
       "      <th>LB</th>\n",
       "      <th>AC</th>\n",
       "      <th>FM</th>\n",
       "      <th>UC</th>\n",
       "      <th>DL</th>\n",
       "      <th>DS</th>\n",
       "      <th>DP</th>\n",
       "      <th>ASTV</th>\n",
       "      <th>MSTV</th>\n",
       "      <th>ALTV</th>\n",
       "      <th>MLTV</th>\n",
       "      <th>Width</th>\n",
       "      <th>Tendency</th>\n",
       "      <th>NSP</th>\n",
       "    </tr>\n",
       "  </thead>\n",
       "  <tbody>\n",
       "    <tr>\n",
       "      <th>0</th>\n",
       "      <td>120.000000</td>\n",
       "      <td>0.000000</td>\n",
       "      <td>0.000000</td>\n",
       "      <td>0.000000</td>\n",
       "      <td>0.000000</td>\n",
       "      <td>0.0</td>\n",
       "      <td>0.0</td>\n",
       "      <td>73.0</td>\n",
       "      <td>0.5</td>\n",
       "      <td>43.000000</td>\n",
       "      <td>2.4</td>\n",
       "      <td>64.0</td>\n",
       "      <td>0.999926</td>\n",
       "      <td>2.000000</td>\n",
       "    </tr>\n",
       "    <tr>\n",
       "      <th>1</th>\n",
       "      <td>132.000000</td>\n",
       "      <td>0.006380</td>\n",
       "      <td>0.000000</td>\n",
       "      <td>0.006380</td>\n",
       "      <td>0.003190</td>\n",
       "      <td>0.0</td>\n",
       "      <td>0.0</td>\n",
       "      <td>17.0</td>\n",
       "      <td>2.1</td>\n",
       "      <td>0.000000</td>\n",
       "      <td>10.4</td>\n",
       "      <td>130.0</td>\n",
       "      <td>0.000000</td>\n",
       "      <td>1.000000</td>\n",
       "    </tr>\n",
       "    <tr>\n",
       "      <th>2</th>\n",
       "      <td>133.000000</td>\n",
       "      <td>0.003322</td>\n",
       "      <td>0.000000</td>\n",
       "      <td>0.008306</td>\n",
       "      <td>0.003322</td>\n",
       "      <td>0.0</td>\n",
       "      <td>0.0</td>\n",
       "      <td>16.0</td>\n",
       "      <td>2.1</td>\n",
       "      <td>0.000000</td>\n",
       "      <td>13.4</td>\n",
       "      <td>130.0</td>\n",
       "      <td>0.000000</td>\n",
       "      <td>1.000000</td>\n",
       "    </tr>\n",
       "    <tr>\n",
       "      <th>3</th>\n",
       "      <td>134.000000</td>\n",
       "      <td>0.002561</td>\n",
       "      <td>0.000000</td>\n",
       "      <td>0.007742</td>\n",
       "      <td>0.002561</td>\n",
       "      <td>0.0</td>\n",
       "      <td>0.0</td>\n",
       "      <td>16.0</td>\n",
       "      <td>2.4</td>\n",
       "      <td>0.000000</td>\n",
       "      <td>23.0</td>\n",
       "      <td>117.0</td>\n",
       "      <td>1.000000</td>\n",
       "      <td>1.000000</td>\n",
       "    </tr>\n",
       "    <tr>\n",
       "      <th>4</th>\n",
       "      <td>131.948232</td>\n",
       "      <td>0.006515</td>\n",
       "      <td>0.000000</td>\n",
       "      <td>0.008143</td>\n",
       "      <td>0.000000</td>\n",
       "      <td>0.0</td>\n",
       "      <td>0.0</td>\n",
       "      <td>16.0</td>\n",
       "      <td>2.4</td>\n",
       "      <td>0.000000</td>\n",
       "      <td>19.9</td>\n",
       "      <td>117.0</td>\n",
       "      <td>1.000000</td>\n",
       "      <td>1.000000</td>\n",
       "    </tr>\n",
       "    <tr>\n",
       "      <th>...</th>\n",
       "      <td>...</td>\n",
       "      <td>...</td>\n",
       "      <td>...</td>\n",
       "      <td>...</td>\n",
       "      <td>...</td>\n",
       "      <td>...</td>\n",
       "      <td>...</td>\n",
       "      <td>...</td>\n",
       "      <td>...</td>\n",
       "      <td>...</td>\n",
       "      <td>...</td>\n",
       "      <td>...</td>\n",
       "      <td>...</td>\n",
       "      <td>...</td>\n",
       "    </tr>\n",
       "    <tr>\n",
       "      <th>2121</th>\n",
       "      <td>140.000000</td>\n",
       "      <td>0.000000</td>\n",
       "      <td>0.961268</td>\n",
       "      <td>0.007426</td>\n",
       "      <td>0.000000</td>\n",
       "      <td>0.0</td>\n",
       "      <td>0.0</td>\n",
       "      <td>79.0</td>\n",
       "      <td>0.2</td>\n",
       "      <td>25.000000</td>\n",
       "      <td>7.2</td>\n",
       "      <td>40.0</td>\n",
       "      <td>0.000000</td>\n",
       "      <td>2.000000</td>\n",
       "    </tr>\n",
       "    <tr>\n",
       "      <th>2122</th>\n",
       "      <td>140.000000</td>\n",
       "      <td>0.000775</td>\n",
       "      <td>0.000000</td>\n",
       "      <td>0.006979</td>\n",
       "      <td>0.000000</td>\n",
       "      <td>0.0</td>\n",
       "      <td>0.0</td>\n",
       "      <td>78.0</td>\n",
       "      <td>0.4</td>\n",
       "      <td>22.000000</td>\n",
       "      <td>7.1</td>\n",
       "      <td>66.0</td>\n",
       "      <td>1.000000</td>\n",
       "      <td>2.000000</td>\n",
       "    </tr>\n",
       "    <tr>\n",
       "      <th>2123</th>\n",
       "      <td>140.000000</td>\n",
       "      <td>0.000980</td>\n",
       "      <td>0.000000</td>\n",
       "      <td>0.006863</td>\n",
       "      <td>0.000000</td>\n",
       "      <td>0.0</td>\n",
       "      <td>0.0</td>\n",
       "      <td>79.0</td>\n",
       "      <td>0.4</td>\n",
       "      <td>20.000000</td>\n",
       "      <td>6.1</td>\n",
       "      <td>67.0</td>\n",
       "      <td>1.000000</td>\n",
       "      <td>1.990464</td>\n",
       "    </tr>\n",
       "    <tr>\n",
       "      <th>2124</th>\n",
       "      <td>140.000000</td>\n",
       "      <td>0.000679</td>\n",
       "      <td>0.000000</td>\n",
       "      <td>0.006110</td>\n",
       "      <td>0.000000</td>\n",
       "      <td>0.0</td>\n",
       "      <td>0.0</td>\n",
       "      <td>78.0</td>\n",
       "      <td>0.4</td>\n",
       "      <td>27.000000</td>\n",
       "      <td>7.0</td>\n",
       "      <td>66.0</td>\n",
       "      <td>1.000000</td>\n",
       "      <td>2.000000</td>\n",
       "    </tr>\n",
       "    <tr>\n",
       "      <th>2125</th>\n",
       "      <td>142.000000</td>\n",
       "      <td>0.001616</td>\n",
       "      <td>-0.000188</td>\n",
       "      <td>0.008078</td>\n",
       "      <td>0.000000</td>\n",
       "      <td>0.0</td>\n",
       "      <td>0.0</td>\n",
       "      <td>74.0</td>\n",
       "      <td>0.4</td>\n",
       "      <td>35.857183</td>\n",
       "      <td>5.0</td>\n",
       "      <td>42.0</td>\n",
       "      <td>0.000000</td>\n",
       "      <td>1.000000</td>\n",
       "    </tr>\n",
       "  </tbody>\n",
       "</table>\n",
       "<p>2126 rows × 14 columns</p>\n",
       "</div>"
      ],
      "text/plain": [
       "              LB        AC        FM        UC        DL   DS   DP  ASTV  \\\n",
       "0     120.000000  0.000000  0.000000  0.000000  0.000000  0.0  0.0  73.0   \n",
       "1     132.000000  0.006380  0.000000  0.006380  0.003190  0.0  0.0  17.0   \n",
       "2     133.000000  0.003322  0.000000  0.008306  0.003322  0.0  0.0  16.0   \n",
       "3     134.000000  0.002561  0.000000  0.007742  0.002561  0.0  0.0  16.0   \n",
       "4     131.948232  0.006515  0.000000  0.008143  0.000000  0.0  0.0  16.0   \n",
       "...          ...       ...       ...       ...       ...  ...  ...   ...   \n",
       "2121  140.000000  0.000000  0.961268  0.007426  0.000000  0.0  0.0  79.0   \n",
       "2122  140.000000  0.000775  0.000000  0.006979  0.000000  0.0  0.0  78.0   \n",
       "2123  140.000000  0.000980  0.000000  0.006863  0.000000  0.0  0.0  79.0   \n",
       "2124  140.000000  0.000679  0.000000  0.006110  0.000000  0.0  0.0  78.0   \n",
       "2125  142.000000  0.001616 -0.000188  0.008078  0.000000  0.0  0.0  74.0   \n",
       "\n",
       "      MSTV       ALTV  MLTV  Width  Tendency       NSP  \n",
       "0      0.5  43.000000   2.4   64.0  0.999926  2.000000  \n",
       "1      2.1   0.000000  10.4  130.0  0.000000  1.000000  \n",
       "2      2.1   0.000000  13.4  130.0  0.000000  1.000000  \n",
       "3      2.4   0.000000  23.0  117.0  1.000000  1.000000  \n",
       "4      2.4   0.000000  19.9  117.0  1.000000  1.000000  \n",
       "...    ...        ...   ...    ...       ...       ...  \n",
       "2121   0.2  25.000000   7.2   40.0  0.000000  2.000000  \n",
       "2122   0.4  22.000000   7.1   66.0  1.000000  2.000000  \n",
       "2123   0.4  20.000000   6.1   67.0  1.000000  1.990464  \n",
       "2124   0.4  27.000000   7.0   66.0  1.000000  2.000000  \n",
       "2125   0.4  35.857183   5.0   42.0  0.000000  1.000000  \n",
       "\n",
       "[2126 rows x 14 columns]"
      ]
     },
     "execution_count": 2,
     "metadata": {},
     "output_type": "execute_result"
    }
   ],
   "source": [
    "df = pd.read_csv(\"Cardiotocographic.csv\")\n",
    "df"
   ]
  },
  {
   "cell_type": "code",
   "execution_count": 3,
   "id": "6c31fa1c-a7aa-497d-a322-f322ceb8ec98",
   "metadata": {},
   "outputs": [
    {
     "data": {
      "text/plain": [
       "(2126, 14)"
      ]
     },
     "execution_count": 3,
     "metadata": {},
     "output_type": "execute_result"
    }
   ],
   "source": [
    "df.shape"
   ]
  },
  {
   "cell_type": "code",
   "execution_count": 4,
   "id": "45ab97d6-3f58-4865-b1e8-983a6e78682e",
   "metadata": {},
   "outputs": [
    {
     "name": "stdout",
     "output_type": "stream",
     "text": [
      "<class 'pandas.core.frame.DataFrame'>\n",
      "RangeIndex: 2126 entries, 0 to 2125\n",
      "Data columns (total 14 columns):\n",
      " #   Column    Non-Null Count  Dtype  \n",
      "---  ------    --------------  -----  \n",
      " 0   LB        2105 non-null   float64\n",
      " 1   AC        2106 non-null   float64\n",
      " 2   FM        2126 non-null   float64\n",
      " 3   UC        2126 non-null   float64\n",
      " 4   DL        2126 non-null   float64\n",
      " 5   DS        2105 non-null   float64\n",
      " 6   DP        2105 non-null   float64\n",
      " 7   ASTV      2126 non-null   float64\n",
      " 8   MSTV      2126 non-null   float64\n",
      " 9   ALTV      2126 non-null   float64\n",
      " 10  MLTV      2105 non-null   float64\n",
      " 11  Width     2105 non-null   float64\n",
      " 12  Tendency  2105 non-null   float64\n",
      " 13  NSP       2105 non-null   float64\n",
      "dtypes: float64(14)\n",
      "memory usage: 232.7 KB\n"
     ]
    }
   ],
   "source": [
    "df.info()"
   ]
  },
  {
   "cell_type": "code",
   "execution_count": 5,
   "id": "2bb870d7-8be5-4126-936c-8c16d6631bec",
   "metadata": {},
   "outputs": [
    {
     "data": {
      "text/plain": [
       "LB          21\n",
       "AC          20\n",
       "FM           0\n",
       "UC           0\n",
       "DL           0\n",
       "DS          21\n",
       "DP          21\n",
       "ASTV         0\n",
       "MSTV         0\n",
       "ALTV         0\n",
       "MLTV        21\n",
       "Width       21\n",
       "Tendency    21\n",
       "NSP         21\n",
       "dtype: int64"
      ]
     },
     "execution_count": 5,
     "metadata": {},
     "output_type": "execute_result"
    }
   ],
   "source": [
    "df.isnull().sum()"
   ]
  },
  {
   "cell_type": "code",
   "execution_count": 6,
   "id": "fa84e11d-d8bb-4da5-b24c-249bba8526ff",
   "metadata": {},
   "outputs": [
    {
     "data": {
      "text/plain": [
       "133.3435983550352"
      ]
     },
     "execution_count": 6,
     "metadata": {},
     "output_type": "execute_result"
    }
   ],
   "source": [
    "df['LB'].mean()"
   ]
  },
  {
   "cell_type": "code",
   "execution_count": 7,
   "id": "f14392e7-8e0a-4160-8d54-df8a8e8ac884",
   "metadata": {},
   "outputs": [
    {
     "data": {
      "text/plain": [
       "0.0032189782438000465"
      ]
     },
     "execution_count": 7,
     "metadata": {},
     "output_type": "execute_result"
    }
   ],
   "source": [
    "df['AC'].mean()"
   ]
  },
  {
   "cell_type": "code",
   "execution_count": 8,
   "id": "d5e1fcf6-94aa-45e9-89f0-6fc8f02fb1ff",
   "metadata": {},
   "outputs": [
    {
     "data": {
      "text/plain": [
       "1.304507175110962"
      ]
     },
     "execution_count": 8,
     "metadata": {},
     "output_type": "execute_result"
    }
   ],
   "source": [
    "df['NSP'].mean()"
   ]
  },
  {
   "cell_type": "code",
   "execution_count": 9,
   "id": "3357d0ce-0b90-4098-acf1-b3bf67af5475",
   "metadata": {},
   "outputs": [
    {
     "data": {
      "text/plain": [
       "0.3163714038702473"
      ]
     },
     "execution_count": 9,
     "metadata": {},
     "output_type": "execute_result"
    }
   ],
   "source": [
    "df['Tendency'].mean()"
   ]
  },
  {
   "cell_type": "code",
   "execution_count": 10,
   "id": "d2f56ab3-0a31-4b7f-84b5-bbb7934c271a",
   "metadata": {},
   "outputs": [
    {
     "data": {
      "text/plain": [
       "70.42926049411918"
      ]
     },
     "execution_count": 10,
     "metadata": {},
     "output_type": "execute_result"
    }
   ],
   "source": [
    "df['Width'].mean()"
   ]
  },
  {
   "cell_type": "code",
   "execution_count": 11,
   "id": "13d655a0-df62-4096-a5aa-d6ddf11ba595",
   "metadata": {},
   "outputs": [
    {
     "data": {
      "text/plain": [
       "8.28488742706321"
      ]
     },
     "execution_count": 11,
     "metadata": {},
     "output_type": "execute_result"
    }
   ],
   "source": [
    "df['MLTV'].mean()"
   ]
  },
  {
   "cell_type": "code",
   "execution_count": 12,
   "id": "24707806-340e-4ba4-9eb7-aae8c8faba78",
   "metadata": {},
   "outputs": [
    {
     "data": {
      "text/plain": [
       "2.5089835057102827e-06"
      ]
     },
     "execution_count": 12,
     "metadata": {},
     "output_type": "execute_result"
    }
   ],
   "source": [
    "df['DS'].mean()"
   ]
  },
  {
   "cell_type": "code",
   "execution_count": 13,
   "id": "0d8de8ba-51b9-4ae8-a65d-3a28568d939b",
   "metadata": {},
   "outputs": [],
   "source": [
    "df['LB']=df['LB'].fillna(133.343)\n",
    "df['AC']=df['AC'].fillna(0.003)\n",
    "df['NSP']=df['NSP'].fillna(1.304)\n",
    "df['Tendency']=df['Tendency'].fillna(0.316)\n",
    "df['Width']=df['Width'].fillna(70.42)\n",
    "df['MLTV']=df['MLTV'].fillna(8.284)\n",
    "df['DS']=df['DS'].fillna(0.0)\n",
    "df['DP']=df['DP'].fillna(0.0)"
   ]
  },
  {
   "cell_type": "code",
   "execution_count": 14,
   "id": "fe4f7838-1bad-40bf-8178-b9ca050223e4",
   "metadata": {},
   "outputs": [
    {
     "data": {
      "text/plain": [
       "LB          0\n",
       "AC          0\n",
       "FM          0\n",
       "UC          0\n",
       "DL          0\n",
       "DS          0\n",
       "DP          0\n",
       "ASTV        0\n",
       "MSTV        0\n",
       "ALTV        0\n",
       "MLTV        0\n",
       "Width       0\n",
       "Tendency    0\n",
       "NSP         0\n",
       "dtype: int64"
      ]
     },
     "execution_count": 14,
     "metadata": {},
     "output_type": "execute_result"
    }
   ],
   "source": [
    "df.isnull().sum()"
   ]
  },
  {
   "cell_type": "code",
   "execution_count": 15,
   "id": "7f5d5c37-2190-44c4-9e8a-fde6118c4330",
   "metadata": {},
   "outputs": [
    {
     "data": {
      "text/html": [
       "<div>\n",
       "<style scoped>\n",
       "    .dataframe tbody tr th:only-of-type {\n",
       "        vertical-align: middle;\n",
       "    }\n",
       "\n",
       "    .dataframe tbody tr th {\n",
       "        vertical-align: top;\n",
       "    }\n",
       "\n",
       "    .dataframe thead th {\n",
       "        text-align: right;\n",
       "    }\n",
       "</style>\n",
       "<table border=\"1\" class=\"dataframe\">\n",
       "  <thead>\n",
       "    <tr style=\"text-align: right;\">\n",
       "      <th></th>\n",
       "      <th>LB</th>\n",
       "      <th>AC</th>\n",
       "      <th>FM</th>\n",
       "      <th>UC</th>\n",
       "      <th>DL</th>\n",
       "      <th>DS</th>\n",
       "      <th>DP</th>\n",
       "      <th>ASTV</th>\n",
       "      <th>MSTV</th>\n",
       "      <th>ALTV</th>\n",
       "      <th>MLTV</th>\n",
       "      <th>Width</th>\n",
       "      <th>Tendency</th>\n",
       "      <th>NSP</th>\n",
       "    </tr>\n",
       "  </thead>\n",
       "  <tbody>\n",
       "    <tr>\n",
       "      <th>1115</th>\n",
       "      <td>122.0</td>\n",
       "      <td>0.000000</td>\n",
       "      <td>0.0</td>\n",
       "      <td>0.000000</td>\n",
       "      <td>0.0</td>\n",
       "      <td>0.0</td>\n",
       "      <td>0.0</td>\n",
       "      <td>19.0</td>\n",
       "      <td>1.9</td>\n",
       "      <td>0.0</td>\n",
       "      <td>15.1</td>\n",
       "      <td>39.0</td>\n",
       "      <td>0.0</td>\n",
       "      <td>1.0</td>\n",
       "    </tr>\n",
       "    <tr>\n",
       "      <th>1458</th>\n",
       "      <td>148.0</td>\n",
       "      <td>0.004717</td>\n",
       "      <td>0.0</td>\n",
       "      <td>0.002358</td>\n",
       "      <td>0.0</td>\n",
       "      <td>0.0</td>\n",
       "      <td>0.0</td>\n",
       "      <td>40.0</td>\n",
       "      <td>0.9</td>\n",
       "      <td>0.0</td>\n",
       "      <td>10.6</td>\n",
       "      <td>35.0</td>\n",
       "      <td>0.0</td>\n",
       "      <td>1.0</td>\n",
       "    </tr>\n",
       "  </tbody>\n",
       "</table>\n",
       "</div>"
      ],
      "text/plain": [
       "         LB        AC   FM        UC   DL   DS   DP  ASTV  MSTV  ALTV  MLTV  \\\n",
       "1115  122.0  0.000000  0.0  0.000000  0.0  0.0  0.0  19.0   1.9   0.0  15.1   \n",
       "1458  148.0  0.004717  0.0  0.002358  0.0  0.0  0.0  40.0   0.9   0.0  10.6   \n",
       "\n",
       "      Width  Tendency  NSP  \n",
       "1115   39.0       0.0  1.0  \n",
       "1458   35.0       0.0  1.0  "
      ]
     },
     "execution_count": 15,
     "metadata": {},
     "output_type": "execute_result"
    }
   ],
   "source": [
    "df[df.duplicated()]"
   ]
  },
  {
   "cell_type": "code",
   "execution_count": 16,
   "id": "e87bfe6c-8526-4c50-9b55-11ee925c2d47",
   "metadata": {},
   "outputs": [],
   "source": [
    "df.drop_duplicates(inplace=True) ## removes any duplicates present "
   ]
  },
  {
   "cell_type": "code",
   "execution_count": 17,
   "id": "8b6a0254-b8bf-4848-8e76-5317b4056c42",
   "metadata": {},
   "outputs": [
    {
     "data": {
      "text/plain": [
       "False"
      ]
     },
     "execution_count": 17,
     "metadata": {},
     "output_type": "execute_result"
    }
   ],
   "source": [
    "df.duplicated().any()"
   ]
  },
  {
   "cell_type": "code",
   "execution_count": 18,
   "id": "d71d3047-637d-4fb5-bce6-268818148b65",
   "metadata": {},
   "outputs": [
    {
     "data": {
      "text/html": [
       "<div>\n",
       "<style scoped>\n",
       "    .dataframe tbody tr th:only-of-type {\n",
       "        vertical-align: middle;\n",
       "    }\n",
       "\n",
       "    .dataframe tbody tr th {\n",
       "        vertical-align: top;\n",
       "    }\n",
       "\n",
       "    .dataframe thead th {\n",
       "        text-align: right;\n",
       "    }\n",
       "</style>\n",
       "<table border=\"1\" class=\"dataframe\">\n",
       "  <thead>\n",
       "    <tr style=\"text-align: right;\">\n",
       "      <th></th>\n",
       "      <th>LB</th>\n",
       "      <th>AC</th>\n",
       "      <th>FM</th>\n",
       "      <th>UC</th>\n",
       "      <th>DL</th>\n",
       "      <th>DS</th>\n",
       "      <th>DP</th>\n",
       "      <th>ASTV</th>\n",
       "      <th>MSTV</th>\n",
       "      <th>ALTV</th>\n",
       "      <th>MLTV</th>\n",
       "      <th>Width</th>\n",
       "      <th>Tendency</th>\n",
       "      <th>NSP</th>\n",
       "    </tr>\n",
       "  </thead>\n",
       "  <tbody>\n",
       "  </tbody>\n",
       "</table>\n",
       "</div>"
      ],
      "text/plain": [
       "Empty DataFrame\n",
       "Columns: [LB, AC, FM, UC, DL, DS, DP, ASTV, MSTV, ALTV, MLTV, Width, Tendency, NSP]\n",
       "Index: []"
      ]
     },
     "execution_count": 18,
     "metadata": {},
     "output_type": "execute_result"
    }
   ],
   "source": [
    "df[df.duplicated()]"
   ]
  },
  {
   "cell_type": "code",
   "execution_count": 19,
   "id": "8df27506-0fd8-48f3-bbda-98c4a7e90376",
   "metadata": {},
   "outputs": [
    {
     "data": {
      "text/plain": [
       "(2124, 14)"
      ]
     },
     "execution_count": 19,
     "metadata": {},
     "output_type": "execute_result"
    }
   ],
   "source": [
    "df.shape"
   ]
  },
  {
   "cell_type": "code",
   "execution_count": 20,
   "id": "de3bfef7-b7f3-4b2c-b753-7184ce103976",
   "metadata": {},
   "outputs": [
    {
     "data": {
      "text/plain": [
       "False"
      ]
     },
     "execution_count": 20,
     "metadata": {},
     "output_type": "execute_result"
    }
   ],
   "source": [
    "df.duplicated().any() "
   ]
  },
  {
   "cell_type": "code",
   "execution_count": 21,
   "id": "eadce3a9-fcf2-427a-83a6-52f1a9142090",
   "metadata": {},
   "outputs": [
    {
     "data": {
      "text/html": [
       "<div>\n",
       "<style scoped>\n",
       "    .dataframe tbody tr th:only-of-type {\n",
       "        vertical-align: middle;\n",
       "    }\n",
       "\n",
       "    .dataframe tbody tr th {\n",
       "        vertical-align: top;\n",
       "    }\n",
       "\n",
       "    .dataframe thead th {\n",
       "        text-align: right;\n",
       "    }\n",
       "</style>\n",
       "<table border=\"1\" class=\"dataframe\">\n",
       "  <thead>\n",
       "    <tr style=\"text-align: right;\">\n",
       "      <th></th>\n",
       "      <th>LB</th>\n",
       "      <th>AC</th>\n",
       "      <th>FM</th>\n",
       "      <th>UC</th>\n",
       "      <th>DL</th>\n",
       "      <th>DS</th>\n",
       "      <th>DP</th>\n",
       "      <th>ASTV</th>\n",
       "      <th>MSTV</th>\n",
       "      <th>ALTV</th>\n",
       "      <th>MLTV</th>\n",
       "      <th>Width</th>\n",
       "      <th>Tendency</th>\n",
       "      <th>NSP</th>\n",
       "    </tr>\n",
       "  </thead>\n",
       "  <tbody>\n",
       "    <tr>\n",
       "      <th>LB</th>\n",
       "      <td>1.000000</td>\n",
       "      <td>-0.063451</td>\n",
       "      <td>0.018808</td>\n",
       "      <td>-0.166642</td>\n",
       "      <td>-0.126557</td>\n",
       "      <td>-0.005439</td>\n",
       "      <td>-0.047716</td>\n",
       "      <td>0.241666</td>\n",
       "      <td>-0.169224</td>\n",
       "      <td>0.210673</td>\n",
       "      <td>-0.003225</td>\n",
       "      <td>-0.118375</td>\n",
       "      <td>0.237112</td>\n",
       "      <td>0.132008</td>\n",
       "    </tr>\n",
       "    <tr>\n",
       "      <th>AC</th>\n",
       "      <td>-0.063451</td>\n",
       "      <td>1.000000</td>\n",
       "      <td>0.009454</td>\n",
       "      <td>0.071524</td>\n",
       "      <td>-0.093371</td>\n",
       "      <td>-0.033168</td>\n",
       "      <td>-0.084011</td>\n",
       "      <td>-0.231079</td>\n",
       "      <td>0.133818</td>\n",
       "      <td>-0.271052</td>\n",
       "      <td>-0.104655</td>\n",
       "      <td>0.234714</td>\n",
       "      <td>0.031892</td>\n",
       "      <td>-0.312190</td>\n",
       "    </tr>\n",
       "    <tr>\n",
       "      <th>FM</th>\n",
       "      <td>0.018808</td>\n",
       "      <td>0.009454</td>\n",
       "      <td>1.000000</td>\n",
       "      <td>-0.053386</td>\n",
       "      <td>0.009641</td>\n",
       "      <td>0.029914</td>\n",
       "      <td>0.121434</td>\n",
       "      <td>-0.032838</td>\n",
       "      <td>0.017061</td>\n",
       "      <td>-0.012005</td>\n",
       "      <td>-0.006157</td>\n",
       "      <td>0.097126</td>\n",
       "      <td>-0.018407</td>\n",
       "      <td>0.073992</td>\n",
       "    </tr>\n",
       "    <tr>\n",
       "      <th>UC</th>\n",
       "      <td>-0.166642</td>\n",
       "      <td>0.071524</td>\n",
       "      <td>-0.053386</td>\n",
       "      <td>1.000000</td>\n",
       "      <td>0.189737</td>\n",
       "      <td>-0.006958</td>\n",
       "      <td>0.070144</td>\n",
       "      <td>-0.182379</td>\n",
       "      <td>0.189685</td>\n",
       "      <td>-0.227881</td>\n",
       "      <td>-0.048754</td>\n",
       "      <td>0.106549</td>\n",
       "      <td>-0.066950</td>\n",
       "      <td>-0.185543</td>\n",
       "    </tr>\n",
       "    <tr>\n",
       "      <th>DL</th>\n",
       "      <td>-0.126557</td>\n",
       "      <td>-0.093371</td>\n",
       "      <td>0.009641</td>\n",
       "      <td>0.189737</td>\n",
       "      <td>1.000000</td>\n",
       "      <td>0.058413</td>\n",
       "      <td>0.144631</td>\n",
       "      <td>-0.069907</td>\n",
       "      <td>0.410216</td>\n",
       "      <td>-0.187275</td>\n",
       "      <td>-0.164942</td>\n",
       "      <td>0.408426</td>\n",
       "      <td>-0.023760</td>\n",
       "      <td>0.025094</td>\n",
       "    </tr>\n",
       "    <tr>\n",
       "      <th>DS</th>\n",
       "      <td>-0.005439</td>\n",
       "      <td>-0.033168</td>\n",
       "      <td>0.029914</td>\n",
       "      <td>-0.006958</td>\n",
       "      <td>0.058413</td>\n",
       "      <td>1.000000</td>\n",
       "      <td>0.004317</td>\n",
       "      <td>0.008415</td>\n",
       "      <td>0.016028</td>\n",
       "      <td>-0.004344</td>\n",
       "      <td>0.034366</td>\n",
       "      <td>0.040831</td>\n",
       "      <td>-0.015408</td>\n",
       "      <td>0.065400</td>\n",
       "    </tr>\n",
       "    <tr>\n",
       "      <th>DP</th>\n",
       "      <td>-0.047716</td>\n",
       "      <td>-0.084011</td>\n",
       "      <td>0.121434</td>\n",
       "      <td>0.070144</td>\n",
       "      <td>0.144631</td>\n",
       "      <td>0.004317</td>\n",
       "      <td>1.000000</td>\n",
       "      <td>0.037959</td>\n",
       "      <td>0.118647</td>\n",
       "      <td>-0.077079</td>\n",
       "      <td>-0.113970</td>\n",
       "      <td>0.175204</td>\n",
       "      <td>-0.130480</td>\n",
       "      <td>0.294355</td>\n",
       "    </tr>\n",
       "    <tr>\n",
       "      <th>ASTV</th>\n",
       "      <td>0.241666</td>\n",
       "      <td>-0.231079</td>\n",
       "      <td>-0.032838</td>\n",
       "      <td>-0.182379</td>\n",
       "      <td>-0.069907</td>\n",
       "      <td>0.008415</td>\n",
       "      <td>0.037959</td>\n",
       "      <td>1.000000</td>\n",
       "      <td>-0.293820</td>\n",
       "      <td>0.357310</td>\n",
       "      <td>-0.219225</td>\n",
       "      <td>-0.207778</td>\n",
       "      <td>-0.011331</td>\n",
       "      <td>0.421175</td>\n",
       "    </tr>\n",
       "    <tr>\n",
       "      <th>MSTV</th>\n",
       "      <td>-0.169224</td>\n",
       "      <td>0.133818</td>\n",
       "      <td>0.017061</td>\n",
       "      <td>0.189685</td>\n",
       "      <td>0.410216</td>\n",
       "      <td>0.016028</td>\n",
       "      <td>0.118647</td>\n",
       "      <td>-0.293820</td>\n",
       "      <td>1.000000</td>\n",
       "      <td>-0.291979</td>\n",
       "      <td>0.028654</td>\n",
       "      <td>0.433230</td>\n",
       "      <td>-0.036655</td>\n",
       "      <td>-0.094637</td>\n",
       "    </tr>\n",
       "    <tr>\n",
       "      <th>ALTV</th>\n",
       "      <td>0.210673</td>\n",
       "      <td>-0.271052</td>\n",
       "      <td>-0.012005</td>\n",
       "      <td>-0.227881</td>\n",
       "      <td>-0.187275</td>\n",
       "      <td>-0.004344</td>\n",
       "      <td>-0.077079</td>\n",
       "      <td>0.357310</td>\n",
       "      <td>-0.291979</td>\n",
       "      <td>1.000000</td>\n",
       "      <td>-0.107332</td>\n",
       "      <td>-0.346493</td>\n",
       "      <td>0.036507</td>\n",
       "      <td>0.365222</td>\n",
       "    </tr>\n",
       "    <tr>\n",
       "      <th>MLTV</th>\n",
       "      <td>-0.003225</td>\n",
       "      <td>-0.104655</td>\n",
       "      <td>-0.006157</td>\n",
       "      <td>-0.048754</td>\n",
       "      <td>-0.164942</td>\n",
       "      <td>0.034366</td>\n",
       "      <td>-0.113970</td>\n",
       "      <td>-0.219225</td>\n",
       "      <td>0.028654</td>\n",
       "      <td>-0.107332</td>\n",
       "      <td>1.000000</td>\n",
       "      <td>0.059031</td>\n",
       "      <td>0.116672</td>\n",
       "      <td>-0.113445</td>\n",
       "    </tr>\n",
       "    <tr>\n",
       "      <th>Width</th>\n",
       "      <td>-0.118375</td>\n",
       "      <td>0.234714</td>\n",
       "      <td>0.097126</td>\n",
       "      <td>0.106549</td>\n",
       "      <td>0.408426</td>\n",
       "      <td>0.040831</td>\n",
       "      <td>0.175204</td>\n",
       "      <td>-0.207778</td>\n",
       "      <td>0.433230</td>\n",
       "      <td>-0.346493</td>\n",
       "      <td>0.059031</td>\n",
       "      <td>1.000000</td>\n",
       "      <td>0.081025</td>\n",
       "      <td>-0.067799</td>\n",
       "    </tr>\n",
       "    <tr>\n",
       "      <th>Tendency</th>\n",
       "      <td>0.237112</td>\n",
       "      <td>0.031892</td>\n",
       "      <td>-0.018407</td>\n",
       "      <td>-0.066950</td>\n",
       "      <td>-0.023760</td>\n",
       "      <td>-0.015408</td>\n",
       "      <td>-0.130480</td>\n",
       "      <td>-0.011331</td>\n",
       "      <td>-0.036655</td>\n",
       "      <td>0.036507</td>\n",
       "      <td>0.116672</td>\n",
       "      <td>0.081025</td>\n",
       "      <td>1.000000</td>\n",
       "      <td>-0.106481</td>\n",
       "    </tr>\n",
       "    <tr>\n",
       "      <th>NSP</th>\n",
       "      <td>0.132008</td>\n",
       "      <td>-0.312190</td>\n",
       "      <td>0.073992</td>\n",
       "      <td>-0.185543</td>\n",
       "      <td>0.025094</td>\n",
       "      <td>0.065400</td>\n",
       "      <td>0.294355</td>\n",
       "      <td>0.421175</td>\n",
       "      <td>-0.094637</td>\n",
       "      <td>0.365222</td>\n",
       "      <td>-0.113445</td>\n",
       "      <td>-0.067799</td>\n",
       "      <td>-0.106481</td>\n",
       "      <td>1.000000</td>\n",
       "    </tr>\n",
       "  </tbody>\n",
       "</table>\n",
       "</div>"
      ],
      "text/plain": [
       "                LB        AC        FM        UC        DL        DS  \\\n",
       "LB        1.000000 -0.063451  0.018808 -0.166642 -0.126557 -0.005439   \n",
       "AC       -0.063451  1.000000  0.009454  0.071524 -0.093371 -0.033168   \n",
       "FM        0.018808  0.009454  1.000000 -0.053386  0.009641  0.029914   \n",
       "UC       -0.166642  0.071524 -0.053386  1.000000  0.189737 -0.006958   \n",
       "DL       -0.126557 -0.093371  0.009641  0.189737  1.000000  0.058413   \n",
       "DS       -0.005439 -0.033168  0.029914 -0.006958  0.058413  1.000000   \n",
       "DP       -0.047716 -0.084011  0.121434  0.070144  0.144631  0.004317   \n",
       "ASTV      0.241666 -0.231079 -0.032838 -0.182379 -0.069907  0.008415   \n",
       "MSTV     -0.169224  0.133818  0.017061  0.189685  0.410216  0.016028   \n",
       "ALTV      0.210673 -0.271052 -0.012005 -0.227881 -0.187275 -0.004344   \n",
       "MLTV     -0.003225 -0.104655 -0.006157 -0.048754 -0.164942  0.034366   \n",
       "Width    -0.118375  0.234714  0.097126  0.106549  0.408426  0.040831   \n",
       "Tendency  0.237112  0.031892 -0.018407 -0.066950 -0.023760 -0.015408   \n",
       "NSP       0.132008 -0.312190  0.073992 -0.185543  0.025094  0.065400   \n",
       "\n",
       "                DP      ASTV      MSTV      ALTV      MLTV     Width  \\\n",
       "LB       -0.047716  0.241666 -0.169224  0.210673 -0.003225 -0.118375   \n",
       "AC       -0.084011 -0.231079  0.133818 -0.271052 -0.104655  0.234714   \n",
       "FM        0.121434 -0.032838  0.017061 -0.012005 -0.006157  0.097126   \n",
       "UC        0.070144 -0.182379  0.189685 -0.227881 -0.048754  0.106549   \n",
       "DL        0.144631 -0.069907  0.410216 -0.187275 -0.164942  0.408426   \n",
       "DS        0.004317  0.008415  0.016028 -0.004344  0.034366  0.040831   \n",
       "DP        1.000000  0.037959  0.118647 -0.077079 -0.113970  0.175204   \n",
       "ASTV      0.037959  1.000000 -0.293820  0.357310 -0.219225 -0.207778   \n",
       "MSTV      0.118647 -0.293820  1.000000 -0.291979  0.028654  0.433230   \n",
       "ALTV     -0.077079  0.357310 -0.291979  1.000000 -0.107332 -0.346493   \n",
       "MLTV     -0.113970 -0.219225  0.028654 -0.107332  1.000000  0.059031   \n",
       "Width     0.175204 -0.207778  0.433230 -0.346493  0.059031  1.000000   \n",
       "Tendency -0.130480 -0.011331 -0.036655  0.036507  0.116672  0.081025   \n",
       "NSP       0.294355  0.421175 -0.094637  0.365222 -0.113445 -0.067799   \n",
       "\n",
       "          Tendency       NSP  \n",
       "LB        0.237112  0.132008  \n",
       "AC        0.031892 -0.312190  \n",
       "FM       -0.018407  0.073992  \n",
       "UC       -0.066950 -0.185543  \n",
       "DL       -0.023760  0.025094  \n",
       "DS       -0.015408  0.065400  \n",
       "DP       -0.130480  0.294355  \n",
       "ASTV     -0.011331  0.421175  \n",
       "MSTV     -0.036655 -0.094637  \n",
       "ALTV      0.036507  0.365222  \n",
       "MLTV      0.116672 -0.113445  \n",
       "Width     0.081025 -0.067799  \n",
       "Tendency  1.000000 -0.106481  \n",
       "NSP      -0.106481  1.000000  "
      ]
     },
     "execution_count": 21,
     "metadata": {},
     "output_type": "execute_result"
    }
   ],
   "source": [
    "corr= df.corr()\n",
    "corr"
   ]
  },
  {
   "cell_type": "code",
   "execution_count": 22,
   "id": "ea7cf53e-b56c-4f1b-9913-d157c3e325be",
   "metadata": {},
   "outputs": [
    {
     "data": {
      "image/png": "[encoded data removed]",
      "text/plain": [
       "<Figure size 1000x800 with 2 Axes>"
      ]
     },
     "metadata": {},
     "output_type": "display_data"
    }
   ],
   "source": [
    "plt.figure(figsize= (10,8))\n",
    "sns.heatmap(corr, cmap='viridis',vmin=-1, vmax=1, center=0,annot=True)\n",
    "plt.show()                                                                 ### I can see there is more negative correlation "
   ]
  },
  {
   "cell_type": "code",
   "execution_count": 23,
   "id": "3d288b44-0a1c-4db3-a039-6ca0957ebc31",
   "metadata": {},
   "outputs": [
    {
     "data": {
      "image/png": "[encoded data removed]",
      "text/plain": [
       "<Figure size 640x480 with 1 Axes>"
      ]
     },
     "metadata": {},
     "output_type": "display_data"
    }
   ],
   "source": [
    "plt.boxplot(df)\n",
    "plt.title(\"Detecting the outliners using boxplot\")\n",
    "plt.show()"
   ]
  },
  {
   "cell_type": "code",
   "execution_count": 28,
   "id": "1ddd39c6-8253-4ef3-8d25-bae1fcde1e72",
   "metadata": {},
   "outputs": [],
   "source": [
    "Q3= df.quantile(0.75)\n",
    "Q1= df.quantile(0.25)\n",
    "IQR= Q3-Q1"
   ]
  },
  {
   "cell_type": "code",
   "execution_count": 29,
   "id": "488f0390-48a4-4872-96c0-26b9ef51d089",
   "metadata": {},
   "outputs": [],
   "source": [
    "lower_bound= Q1 - 1.5 * IQR\n",
    "upper_bound = Q3 + 1.5 * IQR"
   ]
  },
  {
   "cell_type": "code",
   "execution_count": 30,
   "id": "749de880-b3d3-497d-ad31-cf4b1dd8ded2",
   "metadata": {},
   "outputs": [],
   "source": [
    "df_cleaned = df[~((df < lower_bound) | (df > upper_bound)).any(axis=1)]"
   ]
  },
  {
   "cell_type": "code",
   "execution_count": 31,
   "id": "64a381bd-a124-4264-bdaa-f8e2c62c3c63",
   "metadata": {},
   "outputs": [
    {
     "data": {
      "text/html": [
       "<div>\n",
       "<style scoped>\n",
       "    .dataframe tbody tr th:only-of-type {\n",
       "        vertical-align: middle;\n",
       "    }\n",
       "\n",
       "    .dataframe tbody tr th {\n",
       "        vertical-align: top;\n",
       "    }\n",
       "\n",
       "    .dataframe thead th {\n",
       "        text-align: right;\n",
       "    }\n",
       "</style>\n",
       "<table border=\"1\" class=\"dataframe\">\n",
       "  <thead>\n",
       "    <tr style=\"text-align: right;\">\n",
       "      <th></th>\n",
       "      <th>LB</th>\n",
       "      <th>AC</th>\n",
       "      <th>FM</th>\n",
       "      <th>UC</th>\n",
       "      <th>DL</th>\n",
       "      <th>DS</th>\n",
       "      <th>DP</th>\n",
       "      <th>ASTV</th>\n",
       "      <th>MSTV</th>\n",
       "      <th>ALTV</th>\n",
       "      <th>MLTV</th>\n",
       "      <th>Width</th>\n",
       "      <th>Tendency</th>\n",
       "      <th>NSP</th>\n",
       "    </tr>\n",
       "  </thead>\n",
       "  <tbody>\n",
       "    <tr>\n",
       "      <th>1</th>\n",
       "      <td>132.000000</td>\n",
       "      <td>0.006380</td>\n",
       "      <td>0.00000</td>\n",
       "      <td>0.006380</td>\n",
       "      <td>0.003190</td>\n",
       "      <td>0.0</td>\n",
       "      <td>0.0</td>\n",
       "      <td>17.0</td>\n",
       "      <td>2.1</td>\n",
       "      <td>0.000000</td>\n",
       "      <td>10.4</td>\n",
       "      <td>130.0</td>\n",
       "      <td>0.000000</td>\n",
       "      <td>1.0</td>\n",
       "    </tr>\n",
       "    <tr>\n",
       "      <th>2</th>\n",
       "      <td>133.000000</td>\n",
       "      <td>0.003322</td>\n",
       "      <td>0.00000</td>\n",
       "      <td>0.008306</td>\n",
       "      <td>0.003322</td>\n",
       "      <td>0.0</td>\n",
       "      <td>0.0</td>\n",
       "      <td>16.0</td>\n",
       "      <td>2.1</td>\n",
       "      <td>0.000000</td>\n",
       "      <td>13.4</td>\n",
       "      <td>130.0</td>\n",
       "      <td>0.000000</td>\n",
       "      <td>1.0</td>\n",
       "    </tr>\n",
       "    <tr>\n",
       "      <th>4</th>\n",
       "      <td>131.948232</td>\n",
       "      <td>0.006515</td>\n",
       "      <td>0.00000</td>\n",
       "      <td>0.008143</td>\n",
       "      <td>0.000000</td>\n",
       "      <td>0.0</td>\n",
       "      <td>0.0</td>\n",
       "      <td>16.0</td>\n",
       "      <td>2.4</td>\n",
       "      <td>0.000000</td>\n",
       "      <td>19.9</td>\n",
       "      <td>117.0</td>\n",
       "      <td>1.000000</td>\n",
       "      <td>1.0</td>\n",
       "    </tr>\n",
       "    <tr>\n",
       "      <th>37</th>\n",
       "      <td>114.000000</td>\n",
       "      <td>0.004559</td>\n",
       "      <td>0.00000</td>\n",
       "      <td>0.004559</td>\n",
       "      <td>0.003040</td>\n",
       "      <td>0.0</td>\n",
       "      <td>0.0</td>\n",
       "      <td>24.0</td>\n",
       "      <td>3.2</td>\n",
       "      <td>0.000000</td>\n",
       "      <td>16.2</td>\n",
       "      <td>134.0</td>\n",
       "      <td>0.000000</td>\n",
       "      <td>1.0</td>\n",
       "    </tr>\n",
       "    <tr>\n",
       "      <th>59</th>\n",
       "      <td>144.000000</td>\n",
       "      <td>0.008143</td>\n",
       "      <td>0.00000</td>\n",
       "      <td>0.006595</td>\n",
       "      <td>0.000000</td>\n",
       "      <td>0.0</td>\n",
       "      <td>0.0</td>\n",
       "      <td>33.0</td>\n",
       "      <td>1.1</td>\n",
       "      <td>-0.060411</td>\n",
       "      <td>6.2</td>\n",
       "      <td>100.0</td>\n",
       "      <td>1.000000</td>\n",
       "      <td>1.0</td>\n",
       "    </tr>\n",
       "    <tr>\n",
       "      <th>...</th>\n",
       "      <td>...</td>\n",
       "      <td>...</td>\n",
       "      <td>...</td>\n",
       "      <td>...</td>\n",
       "      <td>...</td>\n",
       "      <td>...</td>\n",
       "      <td>...</td>\n",
       "      <td>...</td>\n",
       "      <td>...</td>\n",
       "      <td>...</td>\n",
       "      <td>...</td>\n",
       "      <td>...</td>\n",
       "      <td>...</td>\n",
       "      <td>...</td>\n",
       "    </tr>\n",
       "    <tr>\n",
       "      <th>2113</th>\n",
       "      <td>136.000000</td>\n",
       "      <td>0.000000</td>\n",
       "      <td>0.00207</td>\n",
       "      <td>0.008282</td>\n",
       "      <td>0.000000</td>\n",
       "      <td>0.0</td>\n",
       "      <td>0.0</td>\n",
       "      <td>67.0</td>\n",
       "      <td>1.5</td>\n",
       "      <td>11.000000</td>\n",
       "      <td>4.7</td>\n",
       "      <td>38.0</td>\n",
       "      <td>0.000000</td>\n",
       "      <td>1.0</td>\n",
       "    </tr>\n",
       "    <tr>\n",
       "      <th>2117</th>\n",
       "      <td>140.000000</td>\n",
       "      <td>0.000000</td>\n",
       "      <td>0.00000</td>\n",
       "      <td>0.007812</td>\n",
       "      <td>0.000000</td>\n",
       "      <td>0.0</td>\n",
       "      <td>0.0</td>\n",
       "      <td>79.0</td>\n",
       "      <td>0.3</td>\n",
       "      <td>20.000000</td>\n",
       "      <td>8.5</td>\n",
       "      <td>26.0</td>\n",
       "      <td>1.002932</td>\n",
       "      <td>1.0</td>\n",
       "    </tr>\n",
       "    <tr>\n",
       "      <th>2118</th>\n",
       "      <td>140.000000</td>\n",
       "      <td>0.000000</td>\n",
       "      <td>0.00000</td>\n",
       "      <td>0.006470</td>\n",
       "      <td>0.000898</td>\n",
       "      <td>0.0</td>\n",
       "      <td>0.0</td>\n",
       "      <td>79.0</td>\n",
       "      <td>0.5</td>\n",
       "      <td>26.428179</td>\n",
       "      <td>7.0</td>\n",
       "      <td>21.0</td>\n",
       "      <td>1.000000</td>\n",
       "      <td>1.0</td>\n",
       "    </tr>\n",
       "    <tr>\n",
       "      <th>2119</th>\n",
       "      <td>140.000000</td>\n",
       "      <td>0.000000</td>\n",
       "      <td>0.00000</td>\n",
       "      <td>0.006764</td>\n",
       "      <td>0.001127</td>\n",
       "      <td>0.0</td>\n",
       "      <td>0.0</td>\n",
       "      <td>79.0</td>\n",
       "      <td>0.6</td>\n",
       "      <td>27.000000</td>\n",
       "      <td>6.4</td>\n",
       "      <td>26.0</td>\n",
       "      <td>1.000000</td>\n",
       "      <td>1.0</td>\n",
       "    </tr>\n",
       "    <tr>\n",
       "      <th>2120</th>\n",
       "      <td>140.000000</td>\n",
       "      <td>0.000000</td>\n",
       "      <td>0.00000</td>\n",
       "      <td>0.004975</td>\n",
       "      <td>0.001244</td>\n",
       "      <td>0.0</td>\n",
       "      <td>0.0</td>\n",
       "      <td>77.0</td>\n",
       "      <td>0.7</td>\n",
       "      <td>17.000000</td>\n",
       "      <td>6.0</td>\n",
       "      <td>31.0</td>\n",
       "      <td>0.000000</td>\n",
       "      <td>1.0</td>\n",
       "    </tr>\n",
       "  </tbody>\n",
       "</table>\n",
       "<p>882 rows × 14 columns</p>\n",
       "</div>"
      ],
      "text/plain": [
       "              LB        AC       FM        UC        DL   DS   DP  ASTV  MSTV  \\\n",
       "1     132.000000  0.006380  0.00000  0.006380  0.003190  0.0  0.0  17.0   2.1   \n",
       "2     133.000000  0.003322  0.00000  0.008306  0.003322  0.0  0.0  16.0   2.1   \n",
       "4     131.948232  0.006515  0.00000  0.008143  0.000000  0.0  0.0  16.0   2.4   \n",
       "37    114.000000  0.004559  0.00000  0.004559  0.003040  0.0  0.0  24.0   3.2   \n",
       "59    144.000000  0.008143  0.00000  0.006595  0.000000  0.0  0.0  33.0   1.1   \n",
       "...          ...       ...      ...       ...       ...  ...  ...   ...   ...   \n",
       "2113  136.000000  0.000000  0.00207  0.008282  0.000000  0.0  0.0  67.0   1.5   \n",
       "2117  140.000000  0.000000  0.00000  0.007812  0.000000  0.0  0.0  79.0   0.3   \n",
       "2118  140.000000  0.000000  0.00000  0.006470  0.000898  0.0  0.0  79.0   0.5   \n",
       "2119  140.000000  0.000000  0.00000  0.006764  0.001127  0.0  0.0  79.0   0.6   \n",
       "2120  140.000000  0.000000  0.00000  0.004975  0.001244  0.0  0.0  77.0   0.7   \n",
       "\n",
       "           ALTV  MLTV  Width  Tendency  NSP  \n",
       "1      0.000000  10.4  130.0  0.000000  1.0  \n",
       "2      0.000000  13.4  130.0  0.000000  1.0  \n",
       "4      0.000000  19.9  117.0  1.000000  1.0  \n",
       "37     0.000000  16.2  134.0  0.000000  1.0  \n",
       "59    -0.060411   6.2  100.0  1.000000  1.0  \n",
       "...         ...   ...    ...       ...  ...  \n",
       "2113  11.000000   4.7   38.0  0.000000  1.0  \n",
       "2117  20.000000   8.5   26.0  1.002932  1.0  \n",
       "2118  26.428179   7.0   21.0  1.000000  1.0  \n",
       "2119  27.000000   6.4   26.0  1.000000  1.0  \n",
       "2120  17.000000   6.0   31.0  0.000000  1.0  \n",
       "\n",
       "[882 rows x 14 columns]"
      ]
     },
     "execution_count": 31,
     "metadata": {},
     "output_type": "execute_result"
    }
   ],
   "source": [
    "df_cleaned"
   ]
  },
  {
   "cell_type": "markdown",
   "id": "31be3e2f-811d-4fed-bb90-addd7969d61c",
   "metadata": {},
   "source": [
    "### Removed the outliers "
   ]
  },
  {
   "cell_type": "code",
   "execution_count": 36,
   "id": "a9160309-a027-4ce9-96d7-3e4c77f8d7ad",
   "metadata": {},
   "outputs": [
    {
     "data": {
      "image/png": "[encoded data removed]",
      "text/plain": [
       "<Figure size 1200x600 with 2 Axes>"
      ]
     },
     "metadata": {},
     "output_type": "display_data"
    }
   ],
   "source": [
    "# Visualize the data before and after removing outliers\n",
    "plt.figure(figsize=(12, 6))\n",
    "\n",
    "plt.subplot(1, 2, 1)\n",
    "plt.boxplot(df.values)\n",
    "plt.title('Before Removing Outliers')\n",
    "plt.xticks(range(1, len(df.columns) + 1), df.columns, rotation=45)\n",
    "\n",
    "plt.subplot(1, 2, 2)\n",
    "plt.boxplot(df_cleaned.values)\n",
    "plt.title('After Removing Outliers')\n",
    "plt.xticks(range(1, len(df_cleaned.columns) + 1), df_cleaned.columns, rotation=45)\n",
    "\n",
    "# plt.tight_layout()\n",
    "plt.show()"
   ]
  },
  {
   "cell_type": "code",
   "execution_count": 38,
   "id": "f91f73ea-5c5a-413d-a8f3-d3602625e6e6",
   "metadata": {},
   "outputs": [
    {
     "data": {
      "image/png": "[encoded data removed]",
      "text/plain": [
       "<Figure size 1200x600 with 1 Axes>"
      ]
     },
     "metadata": {},
     "output_type": "display_data"
    }
   ],
   "source": [
    "plt.figure(figsize=(12, 6))\n",
    "sns.violinplot(data=df_cleaned, inner='quartile')\n",
    "plt.title('Violin Plot - After Removing Outliers')\n",
    "plt.xticks(rotation=45)\n",
    "plt.show()"
   ]
  },
  {
   "cell_type": "code",
   "execution_count": null,
   "id": "460a4e5e-c072-4da3-808b-ae9e8b15ba7b",
   "metadata": {},
   "outputs": [],
   "source": []
  }
 ],
 "metadata": {
  "kernelspec": {
   "display_name": "Python 3 (ipykernel)",
   "language": "python",
   "name": "python3"
  },
  "language_info": {
   "codemirror_mode": {
    "name": "ipython",
    "version": 3
   },
   "file_extension": ".py",
   "mimetype": "text/x-python",
   "name": "python",
   "nbconvert_exporter": "python",
   "pygments_lexer": "ipython3",
   "version": "3.11.5"
  }
 },
 "nbformat": 4,
 "nbformat_minor": 5
}
