{
 "cells": [
  {
   "cell_type": "markdown",
   "id": "ec9f6631-57fd-40ca-84f8-314645157f93",
   "metadata": {},
   "source": [
    "Ho: operating the model in weekly costs are higher\n",
    "Ha: operating the model in weekly not cost higher"
   ]
  },
  {
   "cell_type": "code",
   "execution_count": 2,
   "id": "2d05f0be-282f-4e3f-886f-2baac09b6756",
   "metadata": {},
   "outputs": [],
   "source": [
    "import scipy.stats as stats\n",
    "import math"
   ]
  },
  {
   "cell_type": "code",
   "execution_count": 14,
   "id": "04565acc-e040-4486-8b30-6d3eed01a4ef",
   "metadata": {},
   "outputs": [
    {
     "data": {
      "text/plain": [
       "2.0638985616280205"
      ]
     },
     "execution_count": 14,
     "metadata": {},
     "output_type": "execute_result"
    }
   ],
   "source": [
    "tcritical=stats.t.ppf(1-0.05/2,24)\n",
    "tcritical"
   ]
  },
  {
   "cell_type": "code",
   "execution_count": 11,
   "id": "f044cf43-8d35-48b0-a61b-8caac9e74258",
   "metadata": {},
   "outputs": [
    {
     "data": {
      "text/plain": [
       "25.0"
      ]
     },
     "execution_count": 11,
     "metadata": {},
     "output_type": "execute_result"
    }
   ],
   "source": [
    "margin_of_error= 125/math.sqrt(25)\n",
    "margin_of_error"
   ]
  },
  {
   "cell_type": "code",
   "execution_count": 12,
   "id": "c34e220f-abee-49c7-bfd8-3065601f30eb",
   "metadata": {},
   "outputs": [
    {
     "data": {
      "text/plain": [
       "-38.0"
      ]
     },
     "execution_count": 12,
     "metadata": {},
     "output_type": "execute_result"
    }
   ],
   "source": [
    "tstats=((3050-4000)/margin_of_error)\n",
    "tstats"
   ]
  },
  {
   "cell_type": "markdown",
   "id": "76ebf471-d670-4099-a1d9-943a6d3eaa15",
   "metadata": {},
   "source": [
    "since tcritical greater than tstats we fail to to reject Ho"
   ]
  },
  {
   "cell_type": "markdown",
   "id": "fb231f20-721c-4ff9-a8d2-65b6dae5320b",
   "metadata": {},
   "source": [
    "### chianova Test"
   ]
  },
  {
   "cell_type": "code",
   "execution_count": null,
   "id": "1c1a2950-aa30-4b2c-bc19-805da90706b5",
   "metadata": {},
   "outputs": [],
   "source": []
  }
 ],
 "metadata": {
  "kernelspec": {
   "display_name": "Python 3 (ipykernel)",
   "language": "python",
   "name": "python3"
  },
  "language_info": {
   "codemirror_mode": {
    "name": "ipython",
    "version": 3
   },
   "file_extension": ".py",
   "mimetype": "text/x-python",
   "name": "python",
   "nbconvert_exporter": "python",
   "pygments_lexer": "ipython3",
   "version": "3.11.5"
  }
 },
 "nbformat": 4,
 "nbformat_minor": 5
}
